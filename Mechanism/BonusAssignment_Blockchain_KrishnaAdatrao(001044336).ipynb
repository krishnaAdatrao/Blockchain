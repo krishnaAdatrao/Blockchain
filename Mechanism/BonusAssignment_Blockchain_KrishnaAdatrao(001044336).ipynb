{
  "cells": [
    {
      "attachments": {},
      "cell_type": "markdown",
      "metadata": {
        "id": "5acfmDLDWhBE"
      },
      "source": [
        "# Blockchain Mechanism"
      ]
    },
    {
      "attachments": {},
      "cell_type": "markdown",
      "metadata": {
        "id": "NUAzmzwrWsRJ"
      },
      "source": [
        "(1)\tCreation of transaction (class)\n",
        "\n",
        "(2)\tCreation of a Block (class) that contains transaction objects\n",
        "\n",
        "(3)\tGenerate a Hash value for a Block\n",
        "\n",
        "(4)\tCreate a Blockchain and add Block objects in it\n",
        "\n",
        "(5)\tProof-of-Work\n"
      ]
    },
    {
      "attachments": {},
      "cell_type": "markdown",
      "metadata": {},
      "source": [
        "## Introcuction\n",
        "\n",
        "Blockchain is an emerging technology in present world. The fundamental utilization of blockchain techniques has a scope in financial services in an organization or private sector. Blockchain is basically relies on protecting the blocks of information in a manner like immutable objects which cannot be changed or hacked. In another words, blockchain is a ledger form of any financial transactions that is duplicated and distributed across entire network of computer systems on the blockchain."
      ]
    },
    {
      "attachments": {},
      "cell_type": "markdown",
      "metadata": {},
      "source": [
        "## Blockchain Development\n",
        "\n",
        "A blockchain is a chain of blocks that contains the data as an object in those blocks. The information which is stored in the block relies on the category of the blockchain. Further, blockchain is a decentralized, distributed, digital ledger technology which is immutable in nature and mainly utilized in the scope of financial transactions. Blockchain has been utilizing over plenty of computers which makes in no altering of the transaction record retroactively which helps in eliminating changes in all subsequent blocks and consensus of the network. By utilization of blockchain technology there is no need of central clearing authority in the transactions. "
      ]
    },
    {
      "attachments": {},
      "cell_type": "markdown",
      "metadata": {},
      "source": [
        "## Different types of Blockhains:\n",
        "\n",
        "Public Blockchain - No central Authority\n",
        "\n",
        "Public Blockchains are decentralized technology which doesn’t have any restrictions, the verification of the transaction of records can also be performed.\n",
        "\n",
        "Private Blockchain – At least one authorization is required\n",
        "\n",
        "Private Blockchain is not fully decentralized technique and only specific heads can perform the task in a closed network.\n",
        "\n",
        "Hybrid Blockchain – No permission required\n",
        "\n",
        "Hybrid Blockchain is a mixture of Public and private blockchains which relies on both permissions based and permissionless systems with no alter in the transactions.\n",
        "\n",
        "Consortium Blockchain – Controlled by a group\n",
        "\n",
        "Consortium Blockchain is also called as Federated Blockchain, which validates, initiates, and receives the transactions. Both Public and Private blockchains are utilized.\n",
        "\n",
        "There are various applications of blockchain in the current world likely, Bitcoin Block Transactions. In Bitcoin Block Transactions, there is no need of huge custom central authority permissions which makes lives easier and burden free. Moreover, the transactions are more accurate and secure at the same time. The mechanism behind the block transactions is like the information in a block will be stored as a transaction block likely sender information, receiver information, and the amount of bitcoins to be transferred. Moreover, these types of data transaction blocks will be chained into a single unit of blockchain and every block in the chain has its own hash value to maintain the integrity of the data.\n"
      ]
    },
    {
      "attachments": {},
      "cell_type": "markdown",
      "metadata": {},
      "source": [
        "## Blockchain Development with Colab\n",
        "\n",
        "Google research foundation has given a great solution for researchers to make their work easier by providing serverless architecture around the systems. This architecture is a cloud-based foundation which results in virtual performances of RAM, ROM, and plenty other specifications. While making any projects and research there is a need of huge data and CPU performances to make the progress running. Google came up with a great solution for this as Google Collaboratory which provides virtual CPU performance. Moreover, Colab is also provided with GPU and TPU (Tensor Processing Unit) which gives high performance. However, AWS (Amazon Web Services) is also another best serverless architecture with great security services too likely, Firewall, ACL, CDN (Content Delivery Network). In addition, AWS is provided with AWS lambda services for programming purpose along with AWS Cloud Beanstalk which makes lives easier. However, Google Colab is more flexible for research perspective. \n",
        " \n",
        "Jupyter Notebook is a localhost mechanism which runs locally on the computer. However, Google Colab is providing cloud-based runtime with the same architecture of Jupyter Notebook to make the progresses in their CPU and GPU units."
      ]
    },
    {
      "cell_type": "code",
      "execution_count": 1,
      "metadata": {
        "colab": {
          "base_uri": "https://localhost:8080/"
        },
        "id": "AbFloojhL2Xt",
        "outputId": "949b7f50-ee72-43f2-cd46-25120ff1a0fa"
      },
      "outputs": [
        {
          "name": "stdout",
          "output_type": "stream",
          "text": [
            "\n",
            "\n",
            "Who is the Sender? : Krishna\n",
            "\n",
            "What is the transaction Recipient ID? : Owner ID1\n",
            "\n",
            "How much is the transaction amount? : 90\n",
            "\n",
            "\n",
            "Hash Value of the block {'Sender': 'Krishna', 'Recipient': 'Owner ID1', 'Amount': 90.0} is: \n",
            " Hash Value - '79ee35e0e928b7db33de28caa54646eeea2e7c4b59be1496a68d2a847cc36435'\n",
            "\n",
            "\n",
            "Do you want to add some more transaction blocks (Y/N)? Y\n",
            "\n",
            "\n",
            "Who is the Sender? : Adatrao\n",
            "\n",
            "What is the transaction Recipient ID? : Production ID2\n",
            "\n",
            "How much is the transaction amount? : 99\n",
            "\n",
            "\n",
            "Hash Value of the block {'Sender': 'Adatrao', 'Recipient': 'Production ID2', 'Amount': 99.0} is: \n",
            " Hash Value - '7aec36c3ab915dab9bfb085c956d153a6ee4682cc39e79900a60b74bb7c34b0e'\n",
            "\n",
            "\n",
            "Do you want to add some more transaction blocks (Y/N)? Y\n",
            "\n",
            "\n",
            "Who is the Sender? : Rohin\n",
            "\n",
            "What is the transaction Recipient ID? : Friend ID3\n",
            "\n",
            "How much is the transaction amount? : 100\n",
            "\n",
            "\n",
            "Hash Value of the block {'Sender': 'Rohin', 'Recipient': 'Friend ID3', 'Amount': 100.0} is: \n",
            " Hash Value - '35a3d8ff2c2af395d89accee38cd222acc77a06d6b90aab35f84ac499278aabb'\n",
            "\n",
            "\n",
            "Do you want to add some more transaction blocks (Y/N)? N\n",
            "\n",
            "\n",
            "Creation of a blockchain with block objects: \n",
            " [{'Sender': 'Krishna', 'Recipient': 'Owner ID1', 'Amount': 90.0}, {'Sender': 'Adatrao', 'Recipient': 'Production ID2', 'Amount': 99.0}, {'Sender': 'Rohin', 'Recipient': 'Friend ID3', 'Amount': 100.0}] \n",
            "\n",
            "\n"
          ]
        }
      ],
      "source": [
        "# Importing Required Libraries\n",
        "import hashlib # Hashing Library\n",
        "import json    # Formatting UTF-8 string\n",
        "\n",
        "blockchain = [] \n",
        "work_proof = []\n",
        "\n",
        "class Transaction_Block:\n",
        "    # Block that contains transaction objects\n",
        "    def block(sender_response, recipient_response, amount_response):\n",
        "        block_creation = {'Sender': sender_response, 'Recipient': recipient_response, 'Amount': amount_response}\n",
        "        blockchain.append(block_creation) # adding the block object to blockchain\n",
        "class User_Responses:\n",
        "    # Transaction units or data given by user for a transaction block\n",
        "    def Transaction_Units():\n",
        "        sender_response = input('\\n\\nWho is the Sender? : ') \n",
        "        recipient_response = input('\\nWhat is the transaction Recipient ID? : ')\n",
        "        amount_response = float(input('\\nHow much is the transaction amount? : '))\n",
        "        return sender_response, recipient_response, amount_response\n",
        "class Hash_Value:\n",
        "    # Generating a Hash value for a block\n",
        "    def hash(block):\n",
        "        return hashlib.sha256(json.dumps(block).encode()).hexdigest()\n",
        "\n",
        "\n",
        "temp_block = [{'previous_hash': '', 'index': 0, 'transaction': [], 'nonce': 23}]\n",
        "again = True\n",
        "while again == True:\n",
        "    sender, recipient, amount = User_Responses.Transaction_Units()\n",
        "    Transaction_Block.block(sender, recipient, amount)\n",
        "    print(\"\\n\\nHash Value of the block {} is: \\n\".format(blockchain[-1]), \"Hash Value - '{}'\".format(Hash_Value.hash(blockchain[-1])))\n",
        "    repeat = input(\"\\n\\nDo you want to add some more transaction blocks (Y/N)? \")\n",
        "    if repeat.lower() == 'y':\n",
        "      again = True\n",
        "    else:\n",
        "      again = False\n",
        "\n",
        "print(\"\\n\\nCreation of a blockchain with block objects: \\n\", blockchain, \"\\n\\n\")"
      ]
    },
    {
      "cell_type": "markdown",
      "metadata": {
        "id": "PGLGzcdQr7OI"
      },
      "source": [
        "# Proof of Work"
      ]
    },
    {
      "cell_type": "code",
      "execution_count": 2,
      "metadata": {
        "colab": {
          "base_uri": "https://localhost:8080/"
        },
        "id": "-R1rSPbbdL7A",
        "outputId": "a2dc7103-af60-4635-9826-de2bf655ca3a"
      },
      "outputs": [
        {
          "name": "stdout",
          "output_type": "stream",
          "text": [
            "\n",
            "Checking Hash Value:  feda7347382a223f5675d98e82e3cffee1a9c1a208b67ef5a86286128e5dacbb\n",
            "\n",
            "Checking Hash Value:  ea6899b27e0149096e784b4e898f8bcfc53ac605a037268eb074d5a3a647fe58\n",
            "\n",
            "Checking Hash Value:  d49415b881341abb383efa1cdf414087fe9089ee5c0887c079550b197b8f35af\n",
            "\n",
            "Checking Hash Value:  05f1d202b809271b27eaceb9f27e72f7c237e73fad475ddcef5617385f3a80d8\n",
            "\n",
            "Checking Hash Value:  e51b847ea0240184e3b677d57bd761522c99f29432921f9f5be09e61fd0332e1\n",
            "\n",
            "Checking Hash Value:  4f06d264c9b7d93001b959c87a2b755fed38d420469be65f6a151d349a3e04d3\n",
            "\n",
            "Checking Hash Value:  1c94d63fd2cbe3ca63667490958e59489a5c7f1a3b87ef24de0598550bf64f4a\n",
            "\n",
            "Checking Hash Value:  87d9e02782ba4fcf0d21b340f60b9aba90c8cc07eb6f2a46b5f97af52be1b088\n",
            "\n",
            "Checking Hash Value:  6ca320662243fff3a326bcecc5e6addc2d19c66077604c8dadc3df6dcd305ae2\n",
            "\n",
            "Checking Hash Value:  a2ebf58957ef0ef2d46230b778ab40cfe1a3835f1c9050ce1b1961ac0010d996\n",
            "\n",
            "Checking Hash Value:  ed17a59668cc9d6a3408f9ffeb296cb7c2514bd730c33751458fbac3a18639ee\n",
            "\n",
            "Checking Hash Value:  f0b196e09b1f9564395efa487093daf88636543518cb865ca14124bc7f34e702\n",
            "\n",
            "Checking Hash Value:  f3d5bbbf85dafd0927acc97fea7a3e1ac90a141b7982cc3b67a2e6819a4a56e0\n",
            "\n",
            "Checking Hash Value:  46ef83335ab91ef0431bbfb73a9cee2f3d9d4b60acfb9a5204965c2d58cf28cb\n",
            "\n",
            "Checking Hash Value:  e5c8189a8beae017a29ef836bc62a13ba90d677c70ce03b7f884a5e5a887b9c5\n",
            "\n",
            "Checking Hash Value:  a5a66b8a3cab2d16648d152f593eade212c41804122e6dfcca47182c9a4fb9e0\n",
            "\n",
            "Checking Hash Value:  d6842bff897f1858c5878d8ce14a38d7bcab049ce9ac348883ffbd860e5f8afa\n",
            "\n",
            "Checking Hash Value:  c57a481c5464172da5e11611b60e89bdbd9dda6b1f325c3f1595dc58430580dc\n",
            "\n",
            "Checking Hash Value:  b9eab59916f58e7d52d7b160733b836ccda50daf7744e0029b7e4c174a43d20f\n",
            "\n",
            "Checking Hash Value:  fc34c7ddab296c8fa0717713df3bd228549aa24bbe4ae4666c6598697ddb2fc2\n",
            "\n",
            "Checking Hash Value:  dfb1957fe8eebc2ceee22d9132d418ba4633d871b3275ec32c64140f7b6d676d\n",
            "\n",
            "Checking Hash Value:  014da9f50c0665853bdade9bb60b5594dbd65593ad1c47cac6d97b894cae9533\n",
            "\n",
            "Checking Hash Value:  92b640869bab1031aa75a2412b5e1be03f0cc45dca84658a85bc59485bbb39dc\n",
            "\n",
            "Checking Hash Value:  eb7d9025bdcc3a3101eb805b7aa9282445d58072afc61f5953c0a3bca32ffc36\n",
            "\n",
            "Checking Hash Value:  ba445994a14fa132cfd5f92c3cd74e4dd99a766444fe2fc70732cdcf4c932415\n",
            "\n",
            "Checking Hash Value:  4a8bbf539eb724e49408c4e3a6efebf63cd6e69d0447b5da53454ffd5462cdb9\n",
            "\n",
            "Checking Hash Value:  ec3ff74a7b0d5812e308da108337148f79a27e6069fdd32bbf86499f36a94bac\n",
            "\n",
            "Checking Hash Value:  b2de108fc72934c0fc8801865c53adfbb39e02b8a287ccd77fa870c277b6f17d\n",
            "\n",
            "Checking Hash Value:  2ff7f70e80ef0a395a3bbb020efb6dd9ffe4304d806e28d37692b9580ca324ba\n",
            "\n",
            "Checking Hash Value:  821fd5a800ccbec435c79cffb27cfd3d7d22b4a71953c3a1adea66594998ce48\n",
            "\n",
            "Checking Hash Value:  3f148f2e10fabf6047997ecff1761fbc52c937bf3373a84a0fa4f7e3a7ebb8c2\n",
            "\n",
            "Checking Hash Value:  c881c15479240821e1b732345e5086d889046b7a59100dd11abc4cc4fc593cea\n",
            "\n",
            "Checking Hash Value:  acd689e902ea40ecee28cc9600342b6b1d58c312dc401624ab97683e53d954ff\n",
            "\n",
            "Checking Hash Value:  764448f1528b3f996fcae1eb27bb06057e8c9c2bd68487a1648b6b862048049a\n",
            "\n",
            "Checking Hash Value:  63949084ecbaf784784f89df828742333f296036a69d3361e1cb84af0ebff162\n",
            "\n",
            "Checking Hash Value:  9c4741273dff7d1e51f963da19a59a5eeed15361f6aacd25d1138b02e8f5a86f\n",
            "\n",
            "Checking Hash Value:  a589f44ca8ec797af60573133feda6a2bb5bbb356849bb3bba0b00893dab62f3\n",
            "\n",
            "Checking Hash Value:  b0627b7ce80028159f3dbdcbf8879c281d34e46cdf7e19a01dac1baa960b3f7f\n",
            "\n",
            "Checking Hash Value:  ab95d155b5c08d655344be3fe8412d82dff500ae0f195f9731a9128be5f3d7ce\n",
            "\n",
            "Checking Hash Value:  56c7f30644a0567de3d961efb178be106abf531fc930d4ebfe8724c1d4aa1f5e\n",
            "\n",
            "Checking Hash Value:  4f5e4b0a0014a209025ce58a9d50e2e76edc872bccadd8388d21d4f2af281e26\n",
            "\n",
            "Checking Hash Value:  c8cb12baa01b0b198ff62450377788d314a878a77cd3caf4b33865e8e40b5d20\n",
            "\n",
            "Checking Hash Value:  3477e1d93b70d9461e2c8813b07c15a23bf4a496cb95226cbc7038b2a4131258\n",
            "\n",
            "Checking Hash Value:  8ffefcfb8e2aabee569bfaaf2bace46679f710df309a4a4d0eaf7af04f217115\n",
            "\n",
            "Checking Hash Value:  556c069856008afa6776766f1445c85e6b2f90da77edec72154eeda749a893d4\n",
            "\n",
            "Checking Hash Value:  b806f8a068d58d2ee971cf0c550db1d1aa552a1e531e81a4f8e2af18acf1b860\n",
            "\n",
            "Checking Hash Value:  84315d5f5fd5d869a975ebe643f989024489f879aadcd9bbab9aa50655b50530\n",
            "\n",
            "Checking Hash Value:  006c2407533ff100437a611286f259b89e6391c30995287776043d5bcb44b47d\n",
            "\n",
            "\n",
            "Proof of Work: \n",
            "\n",
            " {'previous_hash': '35a3d8ff2c2af395d89accee38cd222acc77a06d6b90aab35f84ac499278aabb', 'index': 3, 'transaction': [{'Sender': 'Krishna', 'Recipient': 'Owner ID1', 'Amount': 90.0}, {'Sender': 'Adatrao', 'Recipient': 'Production ID2', 'Amount': 99.0}, {'Sender': 'Rohin', 'Recipient': 'Friend ID3', 'Amount': 100.0}], 'nonce': 47} \n",
            "\n",
            "\n"
          ]
        }
      ],
      "source": [
        "class Proof_of_Work:\n",
        "    def proof(block_transactions, last_hash, nonce):\n",
        "        predict_hash = hashlib.sha256((str(block_transactions) + str(last_hash) + str(nonce)).encode()).hexdigest()\n",
        "        print(\"\\nChecking Hash Value: \", predict_hash)\n",
        "        return predict_hash[0:2] == '00'\n",
        "    def func():\n",
        "        nonce = 0\n",
        "        while not Proof_of_Work.proof(blockchain, Hash_Value.hash(temp_block[-1]), nonce):\n",
        "            nonce += 1\n",
        "        return nonce\n",
        "    def check():\n",
        "        work_proof.append({'previous_hash': Hash_Value.hash(blockchain[-1]), 'index': len(blockchain), 'transaction': blockchain, \n",
        "                           'nonce': Proof_of_Work.func()})\n",
        "\n",
        "Proof_of_Work.check()\n",
        "print(\"\\n\\nProof of Work: \\n\\n\", work_proof[0], \"\\n\\n\")"
      ]
    },
    {
      "cell_type": "markdown",
      "metadata": {
        "id": "_05w3JSwuCOT"
      },
      "source": [
        "## Conclusion\n",
        "\n",
        "This survey is based on blockchain technology with the integration of the concept utilization on cloud-based architecture which is Google Colab with python language. The implementation of blockchain with block objects of transactions has been implemented and the transaction objects are generated into hash values to make immutable structure of blockchain. Finally, the validation of this hash values is also illustrated with the running implementation of the program."
      ]
    }
  ],
  "metadata": {
    "colab": {
      "collapsed_sections": [],
      "provenance": []
    },
    "kernelspec": {
      "display_name": "Python 3",
      "name": "python3"
    },
    "language_info": {
      "name": "python"
    }
  },
  "nbformat": 4,
  "nbformat_minor": 0
}
